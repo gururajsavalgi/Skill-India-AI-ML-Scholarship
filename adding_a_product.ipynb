{
  "nbformat": 4,
  "nbformat_minor": 0,
  "metadata": {
    "colab": {
      "name": "adding a product",
      "provenance": [],
      "mount_file_id": "1X1zU-__fcUPTjWBV-FslQbe4YEk7WKCY",
      "authorship_tag": "ABX9TyM0GrlACRyB8Eyql9YlGiWQ",
      "include_colab_link": true
    },
    "kernelspec": {
      "name": "python3",
      "display_name": "Python 3"
    },
    "language_info": {
      "name": "python"
    }
  },
  "cells": [
    {
      "cell_type": "markdown",
      "metadata": {
        "id": "view-in-github",
        "colab_type": "text"
      },
      "source": [
        "<a href=\"https://colab.research.google.com/github/gururajsavalgi/Skill-India-AI-ML-Scholarship/blob/main/adding_a_product.ipynb\" target=\"_parent\"><img src=\"https://colab.research.google.com/assets/colab-badge.svg\" alt=\"Open In Colab\"/></a>"
      ]
    },
    {
      "cell_type": "code",
      "metadata": {
        "id": "yLLJAd30Stv0"
      },
      "source": [
        "fd = open(\"record.json\",'r')\n",
        "r = fd.read()\n",
        "fd.close()\n",
        "\n",
        "record = json.loads(r)"
      ],
      "execution_count": 186,
      "outputs": []
    },
    {
      "cell_type": "markdown",
      "metadata": {
        "id": "aizsAAr8nFxk"
      },
      "source": [
        "**INCREASING quantity of EXISTING product**"
      ]
    },
    {
      "cell_type": "code",
      "metadata": {
        "colab": {
          "base_uri": "https://localhost:8080/"
        },
        "id": "NAbQBa5xkj0G",
        "outputId": "1bb6d887-cfad-4174-cc55-8727e9e7a1fc"
      },
      "source": [
        "prod_id = str(input(\"Enter product id:\"))\n",
        "name = str(input(\"Enter name:\"))\n",
        "pr = int(input(\"Enter price:\"))\n",
        "qn = int(input(\"Enter quantity:\"))\n",
        "\n",
        "qn=record[prod_id]['qn']+qn\n",
        "\n",
        "record[prod_id] = {'name': name, 'pr': pr, 'qn': qn}\n",
        "\n",
        "js = json.dumps(record)\n",
        "\n",
        "fd = open(\"record.json\",'w')\n",
        "fd.write(js)\n",
        "fd.close()"
      ],
      "execution_count": 188,
      "outputs": [
        {
          "name": "stdout",
          "output_type": "stream",
          "text": [
            "Enter product id:1051\n",
            "Enter name:**CR7**\n",
            "Enter price:5000\n",
            "Enter quantity:1\n"
          ]
        }
      ]
    },
    {
      "cell_type": "markdown",
      "metadata": {
        "id": "g-_7uYSLXUGu"
      },
      "source": [
        "**RECORDS OF PRODUCT**"
      ]
    },
    {
      "cell_type": "code",
      "metadata": {
        "colab": {
          "base_uri": "https://localhost:8080/"
        },
        "id": "ZdNLb4hepFg3",
        "outputId": "acf08c1e-c644-4589-b65f-7769414952d3"
      },
      "source": [
        "record"
      ],
      "execution_count": 189,
      "outputs": [
        {
          "output_type": "execute_result",
          "data": {
            "text/plain": [
              "{'10000': {'name': 'lemon', 'pr': 100, 'qn': 23},\n",
              " '1001': {'name': 'parachute', 'pr': 50, 'qn': 10},\n",
              " '1002': {'name': 'headphone', 'pr': 500, 'qn': 10},\n",
              " '1003': {'name': 'purse', 'pr': 50, 'qn': 20},\n",
              " '1004': {'name': 'mat', 'pr': 100, 'qn': 10},\n",
              " '1005': {'name': 'cable', 'pr': 20, 'qn': 50},\n",
              " '1006': {'name': 'monitor', 'pr': 800, 'qn': 50},\n",
              " '1007': {'name': 'dye', 'pr': 70, 'qn': 90},\n",
              " '1008': {'name': 'paint', 'pr': 800, 'qn': 20},\n",
              " '1009': {'name': 'torch', 'pr': 100, 'qn': 20},\n",
              " '1010': {'name': 'spunch', 'pr': 60, 'qn': 15},\n",
              " '1011': {'name': 'paste', 'pr': 33, 'qn': 22},\n",
              " '1012': {'name': 'bulb', 'pr': 11, 'qn': 22},\n",
              " '1013': {'name': 'botle', 'pr': 66, 'qn': 44},\n",
              " '1014': {'name': 'BUD', 'pr': 33, 'qn': 22},\n",
              " '1015': {'name': 'PIN', 'pr': 2, 'qn': 80},\n",
              " '1016': {'name': 'TABLE', 'pr': 600, 'qn': 44},\n",
              " '1017': {'name': 'BLACK_COVER', 'pr': 22, 'qn': 10},\n",
              " '1018': {'name': 'Batminton', 'pr': 922, 'qn': 21},\n",
              " '1019': {'name': 'cotton', 'pr': 32, 'qn': 25},\n",
              " '1020': {'name': 'biscuit', 'pr': 5, 'qn': 100},\n",
              " '1021': {'name': 'bread', 'pr': 20, 'qn': 50},\n",
              " '1022': {'name': 'screen gaurd', 'pr': 33, 'qn': 505},\n",
              " '1023': {'name': 'pin', 'pr': 2, 'qn': 202},\n",
              " '1024': {'name': 'calander', 'pr': 66, 'qn': 222},\n",
              " '1025': {'name': 'oil', 'pr': 90, 'qn': 60},\n",
              " '1026': {'name': 'chair', 'pr': 500, 'qn': 20},\n",
              " '1027': {'name': 'munch', 'pr': 5, 'qn': 5},\n",
              " '1028': {'name': 'kit-kat', 'pr': 10, 'qn': 22},\n",
              " '1029': {'name': 'mirror', 'pr': 22, 'qn': 33},\n",
              " '1030': {'name': 'plug', 'pr': 26, 'qn': 55},\n",
              " '1031': {'name': 'nail', 'pr': 20, 'qn': 50},\n",
              " '1032': {'name': 'seat', 'pr': 44, 'qn': 55},\n",
              " '1033': {'name': 'vasline', 'pr': 22, 'qn': 55},\n",
              " '1034': {'name': 'tower', 'pr': 222, 'qn': 55},\n",
              " '1035': {'name': 'BOATROCKERZZ', 'pr': 999, 'qn': 2},\n",
              " '1036': {'name': 'SENSOR', 'pr': 33, 'qn': 55},\n",
              " '1037': {'name': 'lemon', 'pr': 2, 'qn': 202},\n",
              " '1038': {'name': 'saint', 'pr': 555, 'qn': 5},\n",
              " '1039': {'name': 'pant', 'pr': 333, 'qn': 22},\n",
              " '1040': {'name': 'inner wear', 'pr': 22, 'qn': 8},\n",
              " '1041': {'name': 'mouse', 'pr': 66, 'qn': 555},\n",
              " '1042': {'name': 'SSD', 'pr': 1999, 'qn': 5},\n",
              " '1043': {'name': 'DISPLAY', 'pr': 1000, 'qn': 5},\n",
              " '1044': {'name': 'PHOTO', 'pr': 55, 'qn': 88},\n",
              " '1045': {'name': 'WATER BOTTLE', 'pr': 88, 'qn': 66},\n",
              " '1046': {'name': 'FANTA', 'pr': 22, 'qn': 55},\n",
              " '1047': {'name': 'BOOK', 'pr': 22, 'qn': 50},\n",
              " '1048': {'name': 'TED', 'pr': 5, 'qn': 5},\n",
              " '1049': {'name': 'SETWET', 'pr': 82, 'qn': 25},\n",
              " '1050': {'name': 'SETGET', 'pr': 666, 'qn': 1},\n",
              " '1051': {'name': '**CR7**', 'pr': 5000, 'qn': 2}}"
            ]
          },
          "metadata": {},
          "execution_count": 189
        }
      ]
    },
    {
      "cell_type": "markdown",
      "metadata": {
        "id": "Z7EZBvZIn8X1"
      },
      "source": [
        "**Add New Item into Inventory**"
      ]
    },
    {
      "cell_type": "code",
      "metadata": {
        "colab": {
          "base_uri": "https://localhost:8080/"
        },
        "id": "zBuVGRYVnyVR",
        "outputId": "9444e7f3-eae4-4794-9cac-5855a600ad0a"
      },
      "source": [
        "prod_id = str(input(\"Enter product id:\"))\n",
        "name = str(input(\"Enter name:\"))\n",
        "pr = int(input(\"Enter price:\"))\n",
        "qn = int(input(\"Enter quantity:\"))\n",
        "if qn<=0 or pr<=0:\n",
        "  print(\"invalid input\")\n",
        "else:\n",
        "  record[prod_id] = {'name': name, 'pr': pr, 'qn': qn}\n",
        "\n",
        "js = json.dumps(record)\n",
        "\n",
        "fd = open(\"record.json\",'w')\n",
        "fd.write(js)\n",
        "fd.close()"
      ],
      "execution_count": 167,
      "outputs": [
        {
          "name": "stdout",
          "output_type": "stream",
          "text": [
            "Enter product id:1051\n",
            "Enter name:CR7\n",
            "Enter price:20000\n",
            "Enter quantity:1\n"
          ]
        }
      ]
    },
    {
      "cell_type": "markdown",
      "metadata": {
        "id": "5WQdf6lLWIIz"
      },
      "source": [
        "**DELETE ELEMENT FROM RECORD**"
      ]
    },
    {
      "cell_type": "code",
      "metadata": {
        "colab": {
          "base_uri": "https://localhost:8080/"
        },
        "id": "tcp3p602o7a0",
        "outputId": "6678b289-b78d-4c12-a834-e5b1a5ed8789"
      },
      "source": [
        "prod_id = str(input(\"Enter product id:\"))\n",
        "if 'prod_id' in record:\n",
        "  del record[prod_id]\n",
        "  print(prod_id + \"  prod_id is deleted\")\n",
        "else:\n",
        "  print(\"prod_id is not available\")  \n",
        "\n"
      ],
      "execution_count": 184,
      "outputs": [
        {
          "output_type": "stream",
          "name": "stdout",
          "text": [
            "Enter product id:100\n",
            "prod_id is not available\n"
          ]
        }
      ]
    },
    {
      "cell_type": "code",
      "metadata": {
        "colab": {
          "base_uri": "https://localhost:8080/"
        },
        "id": "bpDARlEt5GFp",
        "outputId": "184af32e-8254-46ce-f1cb-2b8c3f8da31d"
      },
      "source": [
        "record"
      ],
      "execution_count": 190,
      "outputs": [
        {
          "output_type": "execute_result",
          "data": {
            "text/plain": [
              "{'10000': {'name': 'lemon', 'pr': 100, 'qn': 23},\n",
              " '1001': {'name': 'parachute', 'pr': 50, 'qn': 10},\n",
              " '1002': {'name': 'headphone', 'pr': 500, 'qn': 10},\n",
              " '1003': {'name': 'purse', 'pr': 50, 'qn': 20},\n",
              " '1004': {'name': 'mat', 'pr': 100, 'qn': 10},\n",
              " '1005': {'name': 'cable', 'pr': 20, 'qn': 50},\n",
              " '1006': {'name': 'monitor', 'pr': 800, 'qn': 50},\n",
              " '1007': {'name': 'dye', 'pr': 70, 'qn': 90},\n",
              " '1008': {'name': 'paint', 'pr': 800, 'qn': 20},\n",
              " '1009': {'name': 'torch', 'pr': 100, 'qn': 20},\n",
              " '1010': {'name': 'spunch', 'pr': 60, 'qn': 15},\n",
              " '1011': {'name': 'paste', 'pr': 33, 'qn': 22},\n",
              " '1012': {'name': 'bulb', 'pr': 11, 'qn': 22},\n",
              " '1013': {'name': 'botle', 'pr': 66, 'qn': 44},\n",
              " '1014': {'name': 'BUD', 'pr': 33, 'qn': 22},\n",
              " '1015': {'name': 'PIN', 'pr': 2, 'qn': 80},\n",
              " '1016': {'name': 'TABLE', 'pr': 600, 'qn': 44},\n",
              " '1017': {'name': 'BLACK_COVER', 'pr': 22, 'qn': 10},\n",
              " '1018': {'name': 'Batminton', 'pr': 922, 'qn': 21},\n",
              " '1019': {'name': 'cotton', 'pr': 32, 'qn': 25},\n",
              " '1020': {'name': 'biscuit', 'pr': 5, 'qn': 100},\n",
              " '1021': {'name': 'bread', 'pr': 20, 'qn': 50},\n",
              " '1022': {'name': 'screen gaurd', 'pr': 33, 'qn': 505},\n",
              " '1023': {'name': 'pin', 'pr': 2, 'qn': 202},\n",
              " '1024': {'name': 'calander', 'pr': 66, 'qn': 222},\n",
              " '1025': {'name': 'oil', 'pr': 90, 'qn': 60},\n",
              " '1026': {'name': 'chair', 'pr': 500, 'qn': 20},\n",
              " '1027': {'name': 'munch', 'pr': 5, 'qn': 5},\n",
              " '1028': {'name': 'kit-kat', 'pr': 10, 'qn': 22},\n",
              " '1029': {'name': 'mirror', 'pr': 22, 'qn': 33},\n",
              " '1030': {'name': 'plug', 'pr': 26, 'qn': 55},\n",
              " '1031': {'name': 'nail', 'pr': 20, 'qn': 50},\n",
              " '1032': {'name': 'seat', 'pr': 44, 'qn': 55},\n",
              " '1033': {'name': 'vasline', 'pr': 22, 'qn': 55},\n",
              " '1034': {'name': 'tower', 'pr': 222, 'qn': 55},\n",
              " '1035': {'name': 'BOATROCKERZZ', 'pr': 999, 'qn': 2},\n",
              " '1036': {'name': 'SENSOR', 'pr': 33, 'qn': 55},\n",
              " '1037': {'name': 'lemon', 'pr': 2, 'qn': 202},\n",
              " '1038': {'name': 'saint', 'pr': 555, 'qn': 5},\n",
              " '1039': {'name': 'pant', 'pr': 333, 'qn': 22},\n",
              " '1040': {'name': 'inner wear', 'pr': 22, 'qn': 8},\n",
              " '1041': {'name': 'mouse', 'pr': 66, 'qn': 555},\n",
              " '1042': {'name': 'SSD', 'pr': 1999, 'qn': 5},\n",
              " '1043': {'name': 'DISPLAY', 'pr': 1000, 'qn': 5},\n",
              " '1044': {'name': 'PHOTO', 'pr': 55, 'qn': 88},\n",
              " '1045': {'name': 'WATER BOTTLE', 'pr': 88, 'qn': 66},\n",
              " '1046': {'name': 'FANTA', 'pr': 22, 'qn': 55},\n",
              " '1047': {'name': 'BOOK', 'pr': 22, 'qn': 50},\n",
              " '1048': {'name': 'TED', 'pr': 5, 'qn': 5},\n",
              " '1049': {'name': 'SETWET', 'pr': 82, 'qn': 25},\n",
              " '1050': {'name': 'SETGET', 'pr': 666, 'qn': 1},\n",
              " '1051': {'name': '**CR7**', 'pr': 5000, 'qn': 2}}"
            ]
          },
          "metadata": {},
          "execution_count": 190
        }
      ]
    },
    {
      "cell_type": "code",
      "metadata": {
        "id": "Ai4u8VkfJP6E"
      },
      "source": [
        "record=json.dumps(record)"
      ],
      "execution_count": 191,
      "outputs": []
    }
  ]
}